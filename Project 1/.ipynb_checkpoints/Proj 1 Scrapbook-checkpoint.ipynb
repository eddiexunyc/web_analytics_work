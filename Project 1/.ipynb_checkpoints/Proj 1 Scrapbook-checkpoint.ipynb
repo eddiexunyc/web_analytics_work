{
 "cells": [
  {
   "cell_type": "code",
   "execution_count": 1,
   "id": "5097280f",
   "metadata": {},
   "outputs": [],
   "source": [
    "import pandas as pd\n",
    "df = pd.read_csv(\"airlines.csv\")"
   ]
  },
  {
   "cell_type": "code",
   "execution_count": 2,
   "id": "0f04b463",
   "metadata": {},
   "outputs": [
    {
     "data": {
      "text/html": [
       "<div>\n",
       "<style scoped>\n",
       "    .dataframe tbody tr th:only-of-type {\n",
       "        vertical-align: middle;\n",
       "    }\n",
       "\n",
       "    .dataframe tbody tr th {\n",
       "        vertical-align: top;\n",
       "    }\n",
       "\n",
       "    .dataframe thead th {\n",
       "        text-align: right;\n",
       "    }\n",
       "</style>\n",
       "<table border=\"1\" class=\"dataframe\">\n",
       "  <thead>\n",
       "    <tr style=\"text-align: right;\">\n",
       "      <th></th>\n",
       "      <th>index</th>\n",
       "      <th>Airline ID</th>\n",
       "      <th>Name</th>\n",
       "      <th>Alias</th>\n",
       "      <th>IATA</th>\n",
       "      <th>ICAO</th>\n",
       "      <th>Callsign</th>\n",
       "      <th>Country</th>\n",
       "      <th>Active</th>\n",
       "    </tr>\n",
       "  </thead>\n",
       "  <tbody>\n",
       "    <tr>\n",
       "      <th>0</th>\n",
       "      <td>0</td>\n",
       "      <td>-1</td>\n",
       "      <td>Unknown</td>\n",
       "      <td>\\N</td>\n",
       "      <td>-</td>\n",
       "      <td>NaN</td>\n",
       "      <td>\\N</td>\n",
       "      <td>\\N</td>\n",
       "      <td>Y</td>\n",
       "    </tr>\n",
       "    <tr>\n",
       "      <th>1</th>\n",
       "      <td>1</td>\n",
       "      <td>1</td>\n",
       "      <td>Private flight</td>\n",
       "      <td>\\N</td>\n",
       "      <td>-</td>\n",
       "      <td>NaN</td>\n",
       "      <td>NaN</td>\n",
       "      <td>NaN</td>\n",
       "      <td>Y</td>\n",
       "    </tr>\n",
       "    <tr>\n",
       "      <th>2</th>\n",
       "      <td>2</td>\n",
       "      <td>2</td>\n",
       "      <td>135 Airways</td>\n",
       "      <td>\\N</td>\n",
       "      <td>NaN</td>\n",
       "      <td>GNL</td>\n",
       "      <td>GENERAL</td>\n",
       "      <td>United States</td>\n",
       "      <td>N</td>\n",
       "    </tr>\n",
       "    <tr>\n",
       "      <th>3</th>\n",
       "      <td>3</td>\n",
       "      <td>3</td>\n",
       "      <td>1Time Airline</td>\n",
       "      <td>\\N</td>\n",
       "      <td>1T</td>\n",
       "      <td>RNX</td>\n",
       "      <td>NEXTIME</td>\n",
       "      <td>South Africa</td>\n",
       "      <td>Y</td>\n",
       "    </tr>\n",
       "    <tr>\n",
       "      <th>4</th>\n",
       "      <td>4</td>\n",
       "      <td>4</td>\n",
       "      <td>2 Sqn No 1 Elementary Flying Training School</td>\n",
       "      <td>\\N</td>\n",
       "      <td>NaN</td>\n",
       "      <td>WYT</td>\n",
       "      <td>NaN</td>\n",
       "      <td>United Kingdom</td>\n",
       "      <td>N</td>\n",
       "    </tr>\n",
       "    <tr>\n",
       "      <th>...</th>\n",
       "      <td>...</td>\n",
       "      <td>...</td>\n",
       "      <td>...</td>\n",
       "      <td>...</td>\n",
       "      <td>...</td>\n",
       "      <td>...</td>\n",
       "      <td>...</td>\n",
       "      <td>...</td>\n",
       "      <td>...</td>\n",
       "    </tr>\n",
       "    <tr>\n",
       "      <th>6157</th>\n",
       "      <td>6157</td>\n",
       "      <td>21248</td>\n",
       "      <td>GX Airlines</td>\n",
       "      <td>NaN</td>\n",
       "      <td>NaN</td>\n",
       "      <td>CBG</td>\n",
       "      <td>SPRAY</td>\n",
       "      <td>China</td>\n",
       "      <td>Y</td>\n",
       "    </tr>\n",
       "    <tr>\n",
       "      <th>6158</th>\n",
       "      <td>6158</td>\n",
       "      <td>21251</td>\n",
       "      <td>Lynx Aviation (L3/SSX)</td>\n",
       "      <td>NaN</td>\n",
       "      <td>NaN</td>\n",
       "      <td>SSX</td>\n",
       "      <td>Shasta</td>\n",
       "      <td>United States</td>\n",
       "      <td>N</td>\n",
       "    </tr>\n",
       "    <tr>\n",
       "      <th>6159</th>\n",
       "      <td>6159</td>\n",
       "      <td>21268</td>\n",
       "      <td>Jetgo Australia</td>\n",
       "      <td>NaN</td>\n",
       "      <td>JG</td>\n",
       "      <td>\\N</td>\n",
       "      <td>NaN</td>\n",
       "      <td>Australia</td>\n",
       "      <td>Y</td>\n",
       "    </tr>\n",
       "    <tr>\n",
       "      <th>6160</th>\n",
       "      <td>6160</td>\n",
       "      <td>21270</td>\n",
       "      <td>Air Carnival</td>\n",
       "      <td>NaN</td>\n",
       "      <td>2S</td>\n",
       "      <td>\\N</td>\n",
       "      <td>NaN</td>\n",
       "      <td>India</td>\n",
       "      <td>Y</td>\n",
       "    </tr>\n",
       "    <tr>\n",
       "      <th>6161</th>\n",
       "      <td>6161</td>\n",
       "      <td>21317</td>\n",
       "      <td>Svyaz Rossiya</td>\n",
       "      <td>Russian Commuter</td>\n",
       "      <td>7R</td>\n",
       "      <td>SJM</td>\n",
       "      <td>RussianConnecty</td>\n",
       "      <td>Russia</td>\n",
       "      <td>Y</td>\n",
       "    </tr>\n",
       "  </tbody>\n",
       "</table>\n",
       "<p>6162 rows × 9 columns</p>\n",
       "</div>"
      ],
      "text/plain": [
       "      index  Airline ID                                          Name  \\\n",
       "0         0          -1                                       Unknown   \n",
       "1         1           1                                Private flight   \n",
       "2         2           2                                   135 Airways   \n",
       "3         3           3                                 1Time Airline   \n",
       "4         4           4  2 Sqn No 1 Elementary Flying Training School   \n",
       "...     ...         ...                                           ...   \n",
       "6157   6157       21248                                   GX Airlines   \n",
       "6158   6158       21251                        Lynx Aviation (L3/SSX)   \n",
       "6159   6159       21268                               Jetgo Australia   \n",
       "6160   6160       21270                                  Air Carnival   \n",
       "6161   6161       21317                                 Svyaz Rossiya   \n",
       "\n",
       "                  Alias IATA ICAO         Callsign         Country Active  \n",
       "0                    \\N    -  NaN               \\N              \\N      Y  \n",
       "1                    \\N    -  NaN              NaN             NaN      Y  \n",
       "2                    \\N  NaN  GNL          GENERAL   United States      N  \n",
       "3                    \\N   1T  RNX          NEXTIME    South Africa      Y  \n",
       "4                    \\N  NaN  WYT              NaN  United Kingdom      N  \n",
       "...                 ...  ...  ...              ...             ...    ...  \n",
       "6157                NaN  NaN  CBG            SPRAY           China      Y  \n",
       "6158                NaN  NaN  SSX           Shasta   United States      N  \n",
       "6159                NaN   JG   \\N              NaN       Australia      Y  \n",
       "6160                NaN   2S   \\N              NaN           India      Y  \n",
       "6161  Russian Commuter    7R  SJM  RussianConnecty          Russia      Y  \n",
       "\n",
       "[6162 rows x 9 columns]"
      ]
     },
     "execution_count": 2,
     "metadata": {},
     "output_type": "execute_result"
    }
   ],
   "source": [
    "df"
   ]
  },
  {
   "cell_type": "code",
   "execution_count": null,
   "id": "07836829",
   "metadata": {},
   "outputs": [],
   "source": [
    "df2 = pd.read_csv(\"airplanes.csv\")"
   ]
  },
  {
   "cell_type": "code",
   "execution_count": null,
   "id": "34afae1a",
   "metadata": {},
   "outputs": [],
   "source": []
  },
  {
   "cell_type": "code",
   "execution_count": null,
   "id": "4a06b667",
   "metadata": {},
   "outputs": [],
   "source": [
    "airports_raw = airports_raw[airports_raw.Longitude > 0]\n",
    "airports_raw.head()"
   ]
  },
  {
   "cell_type": "code",
   "execution_count": null,
   "id": "9ff26b4f",
   "metadata": {},
   "outputs": [],
   "source": [
    "airports_raw['Hemisphere'] = np.where(airports_raw['Latitude'] < 0, 'S', 'N')\n",
    "airports_raw[4:8]"
   ]
  },
  {
   "cell_type": "code",
   "execution_count": null,
   "id": "ff233cfe",
   "metadata": {},
   "outputs": [],
   "source": [
    "routes_raw = pd.read_csv(\"routes.csv.zip\", \n",
    "                       usecols=[3, 5, 8])\n",
    "routes_raw.head()"
   ]
  },
  {
   "cell_type": "code",
   "execution_count": null,
   "id": "e736b2d3",
   "metadata": {},
   "outputs": [],
   "source": [
    "airports_raw = pd.read_csv(\"airports.csv\",  \n",
    "                       usecols=[2, 3, 4, 5, 7, 8]) \n",
    "airports_raw.head()"
   ]
  },
  {
   "cell_type": "code",
   "execution_count": null,
   "id": "d3992a96",
   "metadata": {},
   "outputs": [],
   "source": [
    "airports_raw = pd.read_csv(\"airports.csv\",  \n",
    "                       usecols=[2, 3, 4, 5, 7, 8]) \n",
    "airports_raw.head()"
   ]
  },
  {
   "cell_type": "code",
   "execution_count": null,
   "id": "a97d5b2b",
   "metadata": {},
   "outputs": [],
   "source": [
    "airport_nodes = pd.DataFrame(airport_nodes, columns = ['IATA'])\n",
    "airport_nodes = pd.merge(airport_nodes, airports_columns, on='IATA', how='inner')\n",
    "airport_nodes.head()"
   ]
  },
  {
   "cell_type": "code",
   "execution_count": null,
   "id": "0c2cb747",
   "metadata": {},
   "outputs": [],
   "source": [
    "G.node['AYP']"
   ]
  },
  {
   "cell_type": "code",
   "execution_count": null,
   "id": "cb831cd7",
   "metadata": {},
   "outputs": [],
   "source": [
    "# g.get_edge_data('CUZ','LIM')"
   ]
  },
  {
   "cell_type": "code",
   "execution_count": null,
   "id": "052eb284",
   "metadata": {},
   "outputs": [],
   "source": []
  },
  {
   "cell_type": "code",
   "execution_count": null,
   "id": "f3f6e765",
   "metadata": {},
   "outputs": [],
   "source": [
    "airports_raw = pd.read_csv(\"airports.csv\",  \n",
    "                       usecols=[2, 3, 4, 5, 7, 8]) \n",
    "airports_raw.head()"
   ]
  },
  {
   "cell_type": "code",
   "execution_count": null,
   "id": "ed146fc3",
   "metadata": {},
   "outputs": [],
   "source": [
    "G = nx.from_pandas_edgelist(routes, 'Source airport', 'Destination airport', True, nx.DiGraph())\n",
    "nx.set_node_attributes(G, airport_nodes.set_index('IATA').to_dict('index'))"
   ]
  },
  {
   "cell_type": "code",
   "execution_count": null,
   "id": "d6ec0e86",
   "metadata": {},
   "outputs": [],
   "source": [
    "deg = nx.degree(G)"
   ]
  },
  {
   "cell_type": "code",
   "execution_count": null,
   "id": "fe452e9d",
   "metadata": {},
   "outputs": [],
   "source": [
    "deg = nx.degree_centrality(G)"
   ]
  },
  {
   "cell_type": "code",
   "execution_count": null,
   "id": "bd4e5e56",
   "metadata": {},
   "outputs": [],
   "source": [
    "deg_df = pd.DataFrame(deg, columns=['IATA', 'Degree Centrality'])"
   ]
  },
  {
   "cell_type": "code",
   "execution_count": null,
   "id": "e4fec0f9",
   "metadata": {},
   "outputs": [],
   "source": [
    "deg_df = pd.DataFrame(deg, columns = ['IATA', 'Deg_Centrality'])\n",
    "deg_df = pd.merge(deg_df, airports_columns, on='IATA', how='inner')\n",
    "sorted_deg = deg_df.sort_values('Deg_Centrality', ascending = False)\n",
    "sorted_deg.head()"
   ]
  },
  {
   "cell_type": "code",
   "execution_count": null,
   "id": "d6f7566c",
   "metadata": {},
   "outputs": [],
   "source": [
    "airports_dc_df = pd.DataFrame.from_dict(eig, orient='index').reset_index()\n",
    "eig_df.columns = ['IATA', 'Eig_Centrality']\n",
    "eig_df = pd.merge(eig_df, airports_raw, on='IATA', how='inner')\n",
    "sorted_eig = eig_df.sort_values('Eig_Centrality', ascending = False)\n",
    "sorted_eig.head()"
   ]
  },
  {
   "cell_type": "code",
   "execution_count": null,
   "id": "39e1ef24",
   "metadata": {},
   "outputs": [],
   "source": []
  },
  {
   "cell_type": "code",
   "execution_count": null,
   "id": "fa876244",
   "metadata": {},
   "outputs": [],
   "source": [
    "airports_raw = pd.read_csv(\"airports.csv\",  \n",
    "                       usecols=[2, 3, 4, 5, 7, 8]) \n",
    "airports_raw.head()"
   ]
  },
  {
   "cell_type": "code",
   "execution_count": null,
   "id": "86f22bbe",
   "metadata": {},
   "outputs": [],
   "source": [
    "## build a table with centralities \n",
    "data2 = [[name,degree_airports[name], airports_dc[name],airports_eig[name]] for name in airport_names]\n",
    "# combine all values into one dataframe\n",
    "airport_df2 = pd.DataFrame.from_records(data2, columns=['Airport', 'Degree', 'Degree Centrality', 'Eigenvector Centrality'])"
   ]
  },
  {
   "cell_type": "code",
   "execution_count": null,
   "id": "f90807a9",
   "metadata": {},
   "outputs": [],
   "source": [
    "data2 = [[name,degree_airports[name], airports_dc[name],airports_eig[name]] for name in airport_names]"
   ]
  },
  {
   "cell_type": "code",
   "execution_count": null,
   "id": "38853c17",
   "metadata": {},
   "outputs": [],
   "source": [
    "airports_df2"
   ]
  },
  {
   "cell_type": "code",
   "execution_count": null,
   "id": "b361cfb6",
   "metadata": {},
   "outputs": [],
   "source": []
  },
  {
   "cell_type": "code",
   "execution_count": null,
   "id": "f5f6eec3",
   "metadata": {},
   "outputs": [],
   "source": []
  },
  {
   "cell_type": "code",
   "execution_count": null,
   "id": "d9a84da5",
   "metadata": {},
   "outputs": [],
   "source": []
  },
  {
   "cell_type": "code",
   "execution_count": null,
   "id": "8dc565b6",
   "metadata": {},
   "outputs": [],
   "source": [
    "names1=[x[0] for x in ds[:10]]\n",
    "names2=[x[0] for x in cs[:10]]\n",
    "names3=[x[0] for x in bs[:10]]\n",
    "## use Python sets to compute a union of the sets\n",
    "names=list(set(names1) | set(names2) | set (names3))\n",
    "## build a table with centralities\n",
    "table=[[name,d[name],c[name],b[name]] for name in names]"
   ]
  },
  {
   "cell_type": "code",
   "execution_count": null,
   "id": "6357febe",
   "metadata": {},
   "outputs": [],
   "source": [
    "airports_deg_conn = [x[0] for x in top_5_airports_degree]\n",
    "airports_dc = [x[0] for x in top_5_airports_dc]\n",
    "airports_ec = [x[0] for x in top_5_airports_eig]\n",
    "\n",
    "\n",
    "## use Python sets to compute a union of the sets \n",
    "airport_names = list(set(airports_deg_conn) | set(airports_dc) | set(airports_ec)) \n",
    "\n",
    "## build a table with centralities \n",
    "#data2 = [[name,degree_birds[name], birds_dc[name],birds_betweenness[name],birds_closeness[name]] for name in bird_names]\n",
    "data2 = [[name,degree_airports[name], airports_dc[name],airports_eig[name]] for name in airport_names]\n",
    "# combine all values into one dataframe\n",
    "#airport_df2 = pd.DataFrame.from_records(data2, columns=['Airport', 'Degree', 'Degree Centrality', 'Eigenvector Centrality'])"
   ]
  },
  {
   "cell_type": "code",
   "execution_count": null,
   "id": "0777c430",
   "metadata": {},
   "outputs": [],
   "source": [
    "# get the top 5\n",
    "airports_dc_sorted = sorted(airports_dc.items(), key=lambda item: item[1], reverse=True)\n",
    "top_5_airports_dc = airports_dc_sorted[:5]\n",
    "top_5_airports_dc"
   ]
  },
  {
   "cell_type": "code",
   "execution_count": null,
   "id": "d1c4dfd4",
   "metadata": {},
   "outputs": [],
   "source": [
    "# set plot size\n",
    "plt.rcParams[\"figure.figsize\"] = (15,15)\n",
    "\n",
    "# create empty list for node colors\n",
    "colors = []\n",
    "\n",
    "# for each node in the graph append the W or E color to the list\n",
    "for node, data in G.nodes(data=True):\n",
    "    if data['Hemisphere'] == 'W':\n",
    "        colors.append('steelblue')         \n",
    "    else:\n",
    "        colors.append('coral')\n",
    "\n",
    "# Draw the Graph\n",
    "nx.draw(G, with_labels=True, node_size=400, node_color=colors, font_weight='bold', \n",
    "        edge_color=\"grey\", alpha=0.7)"
   ]
  },
  {
   "cell_type": "code",
   "execution_count": null,
   "id": "2a8445c5",
   "metadata": {},
   "outputs": [],
   "source": [
    "eigW = airports_eig_df[airports_eig_df.Hemisphere=='W']\n",
    "eigE = airports_eig_df[airports_eig_df.Hemisphere=='E']"
   ]
  },
  {
   "cell_type": "code",
   "execution_count": null,
   "id": "69282b48",
   "metadata": {},
   "outputs": [],
   "source": [
    "degW1 = degW.iloc[:,[1]]\n",
    "degE1 = degE.iloc[:,[1]]\n",
    "\n",
    "t_deg,p_deg = stats.ttest_ind(degW1.values,degE1.values)\n",
    "\n",
    "t_deg"
   ]
  },
  {
   "cell_type": "code",
   "execution_count": null,
   "id": "6e2af807",
   "metadata": {},
   "outputs": [],
   "source": [
    "p_deg"
   ]
  },
  {
   "cell_type": "code",
   "execution_count": null,
   "id": "561a7b4c",
   "metadata": {},
   "outputs": [],
   "source": [
    "t_eig, p_eig = stats.ttest_ind(eigW.iloc[:,1],eigE.iloc[:,1])\n",
    "\n",
    "p_eig"
   ]
  },
  {
   "cell_type": "code",
   "execution_count": null,
   "id": "754ad982",
   "metadata": {},
   "outputs": [],
   "source": [
    "t_eig"
   ]
  },
  {
   "cell_type": "code",
   "execution_count": null,
   "id": "aa0b01bf",
   "metadata": {},
   "outputs": [],
   "source": [
    "t_dc, p_dc = stats.ttest_ind(dcW.iloc[:,1],dcE.iloc[:,1])\n",
    "\n",
    "t_dc"
   ]
  },
  {
   "cell_type": "code",
   "execution_count": null,
   "id": "74f3106f",
   "metadata": {},
   "outputs": [],
   "source": [
    "p_dc"
   ]
  },
  {
   "cell_type": "code",
   "execution_count": null,
   "id": "318c4449",
   "metadata": {},
   "outputs": [],
   "source": [
    "# Perform independent t-test\n",
    "degW1 = degW.iloc[:,[1]]\n",
    "degE1 = degE.iloc[:,[1]]\n",
    "t_stat, p_value = stats.ttest_ind(degW1, degE1)\n",
    "\n",
    "print(f\"T-Value: {t_stat}, P-Value: {p_value}\")\n",
    "\n",
    "# Interpretation\n",
    "if p_value < 0.05:\n",
    "    print(\"The two groups are significantly different!\")\n",
    "else:\n",
    "    print(\"No significant difference between groups.\")"
   ]
  },
  {
   "cell_type": "code",
   "execution_count": null,
   "id": "47569d71",
   "metadata": {},
   "outputs": [],
   "source": []
  },
  {
   "cell_type": "code",
   "execution_count": null,
   "id": "8834ef11",
   "metadata": {},
   "outputs": [],
   "source": []
  },
  {
   "cell_type": "code",
   "execution_count": null,
   "id": "e93a3b51",
   "metadata": {},
   "outputs": [],
   "source": []
  },
  {
   "cell_type": "code",
   "execution_count": null,
   "id": "a37b88ae",
   "metadata": {},
   "outputs": [],
   "source": []
  },
  {
   "cell_type": "code",
   "execution_count": null,
   "id": "6145cc31",
   "metadata": {},
   "outputs": [],
   "source": []
  },
  {
   "cell_type": "code",
   "execution_count": null,
   "id": "dcaaab46",
   "metadata": {},
   "outputs": [],
   "source": []
  }
 ],
 "metadata": {
  "kernelspec": {
   "display_name": "Python 3 (ipykernel)",
   "language": "python",
   "name": "python3"
  },
  "language_info": {
   "codemirror_mode": {
    "name": "ipython",
    "version": 3
   },
   "file_extension": ".py",
   "mimetype": "text/x-python",
   "name": "python",
   "nbconvert_exporter": "python",
   "pygments_lexer": "ipython3",
   "version": "3.11.7"
  }
 },
 "nbformat": 4,
 "nbformat_minor": 5
}
