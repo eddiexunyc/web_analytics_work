{
 "cells": [
  {
   "cell_type": "code",
   "execution_count": 2,
   "metadata": {},
   "outputs": [],
   "source": [
    "# load packages\n",
    "import networkx as nx\n",
    "import pandas as pd\n",
    "import numpy as np\n",
    "from scipy import stats\n",
    "import matplotlib.pyplot as plt\n",
    "%matplotlib inline\n"
   ]
  },
  {
   "cell_type": "markdown",
   "metadata": {},
   "source": [
    "## Data Selection"
   ]
  },
  {
   "cell_type": "code",
   "execution_count": 21,
   "metadata": {},
   "outputs": [],
   "source": [
    "# extract data\n",
    "route_url = 'https://raw.githubusercontent.com/eddiexunyc/web_analytics_work/refs/heads/main/Project%201/Resources/routes.csv'\n",
    "airports_url = 'https://raw.githubusercontent.com/eddiexunyc/web_analytics_work/refs/heads/main/Project%201/Resources/airports.csv'\n",
    "\n",
    "route_data = pd.read_csv(route_url)\n",
    "airports_data = pd.read_csv(airports_url)"
   ]
  },
  {
   "cell_type": "markdown",
   "metadata": {},
   "source": [
    "## Exploratory Data Analysis"
   ]
  },
  {
   "cell_type": "code",
   "execution_count": 22,
   "metadata": {},
   "outputs": [
    {
     "data": {
      "application/vnd.microsoft.datawrangler.viewer.v0+json": {
       "columns": [
        {
         "name": "index",
         "rawType": "int64",
         "type": "integer"
        },
        {
         "name": "index",
         "rawType": "int64",
         "type": "integer"
        },
        {
         "name": "Airport ID",
         "rawType": "int64",
         "type": "integer"
        },
        {
         "name": "Name",
         "rawType": "object",
         "type": "string"
        },
        {
         "name": "City",
         "rawType": "object",
         "type": "string"
        },
        {
         "name": "Country",
         "rawType": "object",
         "type": "string"
        },
        {
         "name": "IATA",
         "rawType": "object",
         "type": "string"
        },
        {
         "name": "ICAO",
         "rawType": "object",
         "type": "string"
        },
        {
         "name": "Latitude",
         "rawType": "float64",
         "type": "float"
        },
        {
         "name": "Longitude",
         "rawType": "float64",
         "type": "float"
        },
        {
         "name": "Altitude",
         "rawType": "int64",
         "type": "integer"
        },
        {
         "name": "Timezone",
         "rawType": "object",
         "type": "string"
        },
        {
         "name": "DST",
         "rawType": "object",
         "type": "string"
        },
        {
         "name": "Tz database time zone",
         "rawType": "object",
         "type": "string"
        },
        {
         "name": "Type",
         "rawType": "object",
         "type": "string"
        },
        {
         "name": "Source",
         "rawType": "object",
         "type": "string"
        }
       ],
       "conversionMethod": "pd.DataFrame",
       "ref": "46d94ee7-8e6d-4695-b691-d28dfc0b2da0",
       "rows": [
        [
         "0",
         "0",
         "1",
         "Goroka Airport",
         "Goroka",
         "Papua New Guinea",
         "GKA",
         "AYGA",
         "-6.0816898345900015",
         "145.391998291",
         "5282",
         "10",
         "U",
         "Pacific/Port_Moresby",
         "airport",
         "OurAirports"
        ],
        [
         "1",
         "1",
         "2",
         "Madang Airport",
         "Madang",
         "Papua New Guinea",
         "MAG",
         "AYMD",
         "-5.20707988739",
         "145.789001465",
         "20",
         "10",
         "U",
         "Pacific/Port_Moresby",
         "airport",
         "OurAirports"
        ],
        [
         "2",
         "2",
         "3",
         "Mount Hagen Kagamuga Airport",
         "Mount Hagen",
         "Papua New Guinea",
         "HGU",
         "AYMH",
         "-5.826789855957031",
         "144.29600524902344",
         "5388",
         "10",
         "U",
         "Pacific/Port_Moresby",
         "airport",
         "OurAirports"
        ],
        [
         "3",
         "3",
         "4",
         "Nadzab Airport",
         "Nadzab",
         "Papua New Guinea",
         "LAE",
         "AYNZ",
         "-6.569803",
         "146.725977",
         "239",
         "10",
         "U",
         "Pacific/Port_Moresby",
         "airport",
         "OurAirports"
        ],
        [
         "4",
         "4",
         "5",
         "Port Moresby Jacksons International Airport",
         "Port Moresby",
         "Papua New Guinea",
         "POM",
         "AYPY",
         "-9.44338035583496",
         "147.22000122070312",
         "146",
         "10",
         "U",
         "Pacific/Port_Moresby",
         "airport",
         "OurAirports"
        ]
       ],
       "shape": {
        "columns": 15,
        "rows": 5
       }
      },
      "text/html": [
       "<div>\n",
       "<style scoped>\n",
       "    .dataframe tbody tr th:only-of-type {\n",
       "        vertical-align: middle;\n",
       "    }\n",
       "\n",
       "    .dataframe tbody tr th {\n",
       "        vertical-align: top;\n",
       "    }\n",
       "\n",
       "    .dataframe thead th {\n",
       "        text-align: right;\n",
       "    }\n",
       "</style>\n",
       "<table border=\"1\" class=\"dataframe\">\n",
       "  <thead>\n",
       "    <tr style=\"text-align: right;\">\n",
       "      <th></th>\n",
       "      <th>index</th>\n",
       "      <th>Airport ID</th>\n",
       "      <th>Name</th>\n",
       "      <th>City</th>\n",
       "      <th>Country</th>\n",
       "      <th>IATA</th>\n",
       "      <th>ICAO</th>\n",
       "      <th>Latitude</th>\n",
       "      <th>Longitude</th>\n",
       "      <th>Altitude</th>\n",
       "      <th>Timezone</th>\n",
       "      <th>DST</th>\n",
       "      <th>Tz database time zone</th>\n",
       "      <th>Type</th>\n",
       "      <th>Source</th>\n",
       "    </tr>\n",
       "  </thead>\n",
       "  <tbody>\n",
       "    <tr>\n",
       "      <th>0</th>\n",
       "      <td>0</td>\n",
       "      <td>1</td>\n",
       "      <td>Goroka Airport</td>\n",
       "      <td>Goroka</td>\n",
       "      <td>Papua New Guinea</td>\n",
       "      <td>GKA</td>\n",
       "      <td>AYGA</td>\n",
       "      <td>-6.081690</td>\n",
       "      <td>145.391998</td>\n",
       "      <td>5282</td>\n",
       "      <td>10</td>\n",
       "      <td>U</td>\n",
       "      <td>Pacific/Port_Moresby</td>\n",
       "      <td>airport</td>\n",
       "      <td>OurAirports</td>\n",
       "    </tr>\n",
       "    <tr>\n",
       "      <th>1</th>\n",
       "      <td>1</td>\n",
       "      <td>2</td>\n",
       "      <td>Madang Airport</td>\n",
       "      <td>Madang</td>\n",
       "      <td>Papua New Guinea</td>\n",
       "      <td>MAG</td>\n",
       "      <td>AYMD</td>\n",
       "      <td>-5.207080</td>\n",
       "      <td>145.789001</td>\n",
       "      <td>20</td>\n",
       "      <td>10</td>\n",
       "      <td>U</td>\n",
       "      <td>Pacific/Port_Moresby</td>\n",
       "      <td>airport</td>\n",
       "      <td>OurAirports</td>\n",
       "    </tr>\n",
       "    <tr>\n",
       "      <th>2</th>\n",
       "      <td>2</td>\n",
       "      <td>3</td>\n",
       "      <td>Mount Hagen Kagamuga Airport</td>\n",
       "      <td>Mount Hagen</td>\n",
       "      <td>Papua New Guinea</td>\n",
       "      <td>HGU</td>\n",
       "      <td>AYMH</td>\n",
       "      <td>-5.826790</td>\n",
       "      <td>144.296005</td>\n",
       "      <td>5388</td>\n",
       "      <td>10</td>\n",
       "      <td>U</td>\n",
       "      <td>Pacific/Port_Moresby</td>\n",
       "      <td>airport</td>\n",
       "      <td>OurAirports</td>\n",
       "    </tr>\n",
       "    <tr>\n",
       "      <th>3</th>\n",
       "      <td>3</td>\n",
       "      <td>4</td>\n",
       "      <td>Nadzab Airport</td>\n",
       "      <td>Nadzab</td>\n",
       "      <td>Papua New Guinea</td>\n",
       "      <td>LAE</td>\n",
       "      <td>AYNZ</td>\n",
       "      <td>-6.569803</td>\n",
       "      <td>146.725977</td>\n",
       "      <td>239</td>\n",
       "      <td>10</td>\n",
       "      <td>U</td>\n",
       "      <td>Pacific/Port_Moresby</td>\n",
       "      <td>airport</td>\n",
       "      <td>OurAirports</td>\n",
       "    </tr>\n",
       "    <tr>\n",
       "      <th>4</th>\n",
       "      <td>4</td>\n",
       "      <td>5</td>\n",
       "      <td>Port Moresby Jacksons International Airport</td>\n",
       "      <td>Port Moresby</td>\n",
       "      <td>Papua New Guinea</td>\n",
       "      <td>POM</td>\n",
       "      <td>AYPY</td>\n",
       "      <td>-9.443380</td>\n",
       "      <td>147.220001</td>\n",
       "      <td>146</td>\n",
       "      <td>10</td>\n",
       "      <td>U</td>\n",
       "      <td>Pacific/Port_Moresby</td>\n",
       "      <td>airport</td>\n",
       "      <td>OurAirports</td>\n",
       "    </tr>\n",
       "  </tbody>\n",
       "</table>\n",
       "</div>"
      ],
      "text/plain": [
       "   index  Airport ID                                         Name  \\\n",
       "0      0           1                               Goroka Airport   \n",
       "1      1           2                               Madang Airport   \n",
       "2      2           3                 Mount Hagen Kagamuga Airport   \n",
       "3      3           4                               Nadzab Airport   \n",
       "4      4           5  Port Moresby Jacksons International Airport   \n",
       "\n",
       "           City           Country IATA  ICAO  Latitude   Longitude  Altitude  \\\n",
       "0        Goroka  Papua New Guinea  GKA  AYGA -6.081690  145.391998      5282   \n",
       "1        Madang  Papua New Guinea  MAG  AYMD -5.207080  145.789001        20   \n",
       "2   Mount Hagen  Papua New Guinea  HGU  AYMH -5.826790  144.296005      5388   \n",
       "3        Nadzab  Papua New Guinea  LAE  AYNZ -6.569803  146.725977       239   \n",
       "4  Port Moresby  Papua New Guinea  POM  AYPY -9.443380  147.220001       146   \n",
       "\n",
       "  Timezone DST Tz database time zone     Type       Source  \n",
       "0       10   U  Pacific/Port_Moresby  airport  OurAirports  \n",
       "1       10   U  Pacific/Port_Moresby  airport  OurAirports  \n",
       "2       10   U  Pacific/Port_Moresby  airport  OurAirports  \n",
       "3       10   U  Pacific/Port_Moresby  airport  OurAirports  \n",
       "4       10   U  Pacific/Port_Moresby  airport  OurAirports  "
      ]
     },
     "execution_count": 22,
     "metadata": {},
     "output_type": "execute_result"
    }
   ],
   "source": [
    "airports_data.head()"
   ]
  },
  {
   "cell_type": "code",
   "execution_count": null,
   "metadata": {},
   "outputs": [
    {
     "data": {
      "application/vnd.microsoft.datawrangler.viewer.v0+json": {
       "columns": [
        {
         "name": "index",
         "rawType": "int64",
         "type": "integer"
        },
        {
         "name": "index",
         "rawType": "int64",
         "type": "integer"
        },
        {
         "name": "Airport ID",
         "rawType": "int64",
         "type": "integer"
        },
        {
         "name": "Name",
         "rawType": "object",
         "type": "string"
        },
        {
         "name": "City",
         "rawType": "object",
         "type": "string"
        },
        {
         "name": "Country",
         "rawType": "object",
         "type": "string"
        },
        {
         "name": "IATA",
         "rawType": "object",
         "type": "string"
        },
        {
         "name": "ICAO",
         "rawType": "object",
         "type": "string"
        },
        {
         "name": "Latitude",
         "rawType": "float64",
         "type": "float"
        },
        {
         "name": "Longitude",
         "rawType": "float64",
         "type": "float"
        },
        {
         "name": "Altitude",
         "rawType": "int64",
         "type": "integer"
        },
        {
         "name": "Timezone",
         "rawType": "object",
         "type": "string"
        },
        {
         "name": "DST",
         "rawType": "object",
         "type": "string"
        },
        {
         "name": "Tz database time zone",
         "rawType": "object",
         "type": "string"
        },
        {
         "name": "Type",
         "rawType": "object",
         "type": "string"
        },
        {
         "name": "Source",
         "rawType": "object",
         "type": "string"
        }
       ],
       "conversionMethod": "pd.DataFrame",
       "ref": "51aa7537-fdbe-45f0-9339-785e8545ae64",
       "rows": [
        [
         "6",
         "6",
         "7",
         "Narsarsuaq Airport",
         "Narssarssuaq",
         "Greenland",
         "UAK",
         "BGBW",
         "61.1604995728",
         "-45.4259986877",
         "112",
         "-3",
         "E",
         "America/Godthab",
         "airport",
         "OurAirports"
        ],
        [
         "7",
         "7",
         "8",
         "Godthaab / Nuuk Airport",
         "Godthaab",
         "Greenland",
         "GOH",
         "BGGH",
         "64.19090271",
         "-51.678100585900005",
         "283",
         "-3",
         "E",
         "America/Godthab",
         "airport",
         "OurAirports"
        ],
        [
         "8",
         "8",
         "9",
         "Kangerlussuaq Airport",
         "Sondrestrom",
         "Greenland",
         "SFJ",
         "BGSF",
         "67.0122218992",
         "-50.7116031647",
         "165",
         "-3",
         "E",
         "America/Godthab",
         "airport",
         "OurAirports"
        ],
        [
         "9",
         "9",
         "10",
         "Thule Air Base",
         "Thule",
         "Greenland",
         "THU",
         "BGTL",
         "76.5311965942",
         "-68.70320129390001",
         "251",
         "-4",
         "E",
         "America/Thule",
         "airport",
         "OurAirports"
        ],
        [
         "10",
         "10",
         "11",
         "Akureyri Airport",
         "Akureyri",
         "Iceland",
         "AEY",
         "BIAR",
         "65.66000366210939",
         "-18.07270050048828",
         "6",
         "0",
         "N",
         "Atlantic/Reykjavik",
         "airport",
         "OurAirports"
        ]
       ],
       "shape": {
        "columns": 15,
        "rows": 5
       }
      },
      "text/html": [
       "<div>\n",
       "<style scoped>\n",
       "    .dataframe tbody tr th:only-of-type {\n",
       "        vertical-align: middle;\n",
       "    }\n",
       "\n",
       "    .dataframe tbody tr th {\n",
       "        vertical-align: top;\n",
       "    }\n",
       "\n",
       "    .dataframe thead th {\n",
       "        text-align: right;\n",
       "    }\n",
       "</style>\n",
       "<table border=\"1\" class=\"dataframe\">\n",
       "  <thead>\n",
       "    <tr style=\"text-align: right;\">\n",
       "      <th></th>\n",
       "      <th>index</th>\n",
       "      <th>Airport ID</th>\n",
       "      <th>Name</th>\n",
       "      <th>City</th>\n",
       "      <th>Country</th>\n",
       "      <th>IATA</th>\n",
       "      <th>ICAO</th>\n",
       "      <th>Latitude</th>\n",
       "      <th>Longitude</th>\n",
       "      <th>Altitude</th>\n",
       "      <th>Timezone</th>\n",
       "      <th>DST</th>\n",
       "      <th>Tz database time zone</th>\n",
       "      <th>Type</th>\n",
       "      <th>Source</th>\n",
       "    </tr>\n",
       "  </thead>\n",
       "  <tbody>\n",
       "    <tr>\n",
       "      <th>6</th>\n",
       "      <td>6</td>\n",
       "      <td>7</td>\n",
       "      <td>Narsarsuaq Airport</td>\n",
       "      <td>Narssarssuaq</td>\n",
       "      <td>Greenland</td>\n",
       "      <td>UAK</td>\n",
       "      <td>BGBW</td>\n",
       "      <td>61.160500</td>\n",
       "      <td>-45.425999</td>\n",
       "      <td>112</td>\n",
       "      <td>-3</td>\n",
       "      <td>E</td>\n",
       "      <td>America/Godthab</td>\n",
       "      <td>airport</td>\n",
       "      <td>OurAirports</td>\n",
       "    </tr>\n",
       "    <tr>\n",
       "      <th>7</th>\n",
       "      <td>7</td>\n",
       "      <td>8</td>\n",
       "      <td>Godthaab / Nuuk Airport</td>\n",
       "      <td>Godthaab</td>\n",
       "      <td>Greenland</td>\n",
       "      <td>GOH</td>\n",
       "      <td>BGGH</td>\n",
       "      <td>64.190903</td>\n",
       "      <td>-51.678101</td>\n",
       "      <td>283</td>\n",
       "      <td>-3</td>\n",
       "      <td>E</td>\n",
       "      <td>America/Godthab</td>\n",
       "      <td>airport</td>\n",
       "      <td>OurAirports</td>\n",
       "    </tr>\n",
       "    <tr>\n",
       "      <th>8</th>\n",
       "      <td>8</td>\n",
       "      <td>9</td>\n",
       "      <td>Kangerlussuaq Airport</td>\n",
       "      <td>Sondrestrom</td>\n",
       "      <td>Greenland</td>\n",
       "      <td>SFJ</td>\n",
       "      <td>BGSF</td>\n",
       "      <td>67.012222</td>\n",
       "      <td>-50.711603</td>\n",
       "      <td>165</td>\n",
       "      <td>-3</td>\n",
       "      <td>E</td>\n",
       "      <td>America/Godthab</td>\n",
       "      <td>airport</td>\n",
       "      <td>OurAirports</td>\n",
       "    </tr>\n",
       "    <tr>\n",
       "      <th>9</th>\n",
       "      <td>9</td>\n",
       "      <td>10</td>\n",
       "      <td>Thule Air Base</td>\n",
       "      <td>Thule</td>\n",
       "      <td>Greenland</td>\n",
       "      <td>THU</td>\n",
       "      <td>BGTL</td>\n",
       "      <td>76.531197</td>\n",
       "      <td>-68.703201</td>\n",
       "      <td>251</td>\n",
       "      <td>-4</td>\n",
       "      <td>E</td>\n",
       "      <td>America/Thule</td>\n",
       "      <td>airport</td>\n",
       "      <td>OurAirports</td>\n",
       "    </tr>\n",
       "    <tr>\n",
       "      <th>10</th>\n",
       "      <td>10</td>\n",
       "      <td>11</td>\n",
       "      <td>Akureyri Airport</td>\n",
       "      <td>Akureyri</td>\n",
       "      <td>Iceland</td>\n",
       "      <td>AEY</td>\n",
       "      <td>BIAR</td>\n",
       "      <td>65.660004</td>\n",
       "      <td>-18.072701</td>\n",
       "      <td>6</td>\n",
       "      <td>0</td>\n",
       "      <td>N</td>\n",
       "      <td>Atlantic/Reykjavik</td>\n",
       "      <td>airport</td>\n",
       "      <td>OurAirports</td>\n",
       "    </tr>\n",
       "  </tbody>\n",
       "</table>\n",
       "</div>"
      ],
      "text/plain": [
       "    index  Airport ID                     Name          City    Country IATA  \\\n",
       "6       6           7       Narsarsuaq Airport  Narssarssuaq  Greenland  UAK   \n",
       "7       7           8  Godthaab / Nuuk Airport      Godthaab  Greenland  GOH   \n",
       "8       8           9    Kangerlussuaq Airport   Sondrestrom  Greenland  SFJ   \n",
       "9       9          10           Thule Air Base         Thule  Greenland  THU   \n",
       "10     10          11         Akureyri Airport      Akureyri    Iceland  AEY   \n",
       "\n",
       "    ICAO   Latitude  Longitude  Altitude Timezone DST Tz database time zone  \\\n",
       "6   BGBW  61.160500 -45.425999       112       -3   E       America/Godthab   \n",
       "7   BGGH  64.190903 -51.678101       283       -3   E       America/Godthab   \n",
       "8   BGSF  67.012222 -50.711603       165       -3   E       America/Godthab   \n",
       "9   BGTL  76.531197 -68.703201       251       -4   E         America/Thule   \n",
       "10  BIAR  65.660004 -18.072701         6        0   N    Atlantic/Reykjavik   \n",
       "\n",
       "       Type       Source  \n",
       "6   airport  OurAirports  \n",
       "7   airport  OurAirports  \n",
       "8   airport  OurAirports  \n",
       "9   airport  OurAirports  \n",
       "10  airport  OurAirports  "
      ]
     },
     "execution_count": 24,
     "metadata": {},
     "output_type": "execute_result"
    }
   ],
   "source": [
    "# filter on eastern hemisphere\n",
    "airports_eastern = airports_data[airports_data['Longitude'] < 0]\n",
    "airports_eastern.head()"
   ]
  },
  {
   "cell_type": "code",
   "execution_count": 27,
   "metadata": {},
   "outputs": [
    {
     "data": {
      "application/vnd.microsoft.datawrangler.viewer.v0+json": {
       "columns": [
        {
         "name": "index",
         "rawType": "int64",
         "type": "integer"
        },
        {
         "name": "index",
         "rawType": "int64",
         "type": "integer"
        },
        {
         "name": "Airline",
         "rawType": "object",
         "type": "string"
        },
        {
         "name": "Airline ID",
         "rawType": "object",
         "type": "string"
        },
        {
         "name": "Source airport",
         "rawType": "object",
         "type": "string"
        },
        {
         "name": "Source airport ID",
         "rawType": "object",
         "type": "string"
        },
        {
         "name": "Destination airport",
         "rawType": "object",
         "type": "string"
        },
        {
         "name": "Destination airport ID",
         "rawType": "object",
         "type": "string"
        },
        {
         "name": "Codeshare",
         "rawType": "object",
         "type": "string"
        },
        {
         "name": "Stops",
         "rawType": "int64",
         "type": "integer"
        },
        {
         "name": "Equipment",
         "rawType": "object",
         "type": "string"
        }
       ],
       "conversionMethod": "pd.DataFrame",
       "ref": "871f44db-a9d6-4e56-8620-4660ecd9c084",
       "rows": [
        [
         "0",
         "0",
         "2B",
         "410",
         "AER",
         "2965",
         "KZN",
         "2990",
         null,
         "0",
         "CR2"
        ],
        [
         "1",
         "1",
         "2B",
         "410",
         "ASF",
         "2966",
         "KZN",
         "2990",
         null,
         "0",
         "CR2"
        ],
        [
         "2",
         "2",
         "2B",
         "410",
         "ASF",
         "2966",
         "MRV",
         "2962",
         null,
         "0",
         "CR2"
        ],
        [
         "3",
         "3",
         "2B",
         "410",
         "CEK",
         "2968",
         "KZN",
         "2990",
         null,
         "0",
         "CR2"
        ],
        [
         "4",
         "4",
         "2B",
         "410",
         "CEK",
         "2968",
         "OVB",
         "4078",
         null,
         "0",
         "CR2"
        ]
       ],
       "shape": {
        "columns": 10,
        "rows": 5
       }
      },
      "text/html": [
       "<div>\n",
       "<style scoped>\n",
       "    .dataframe tbody tr th:only-of-type {\n",
       "        vertical-align: middle;\n",
       "    }\n",
       "\n",
       "    .dataframe tbody tr th {\n",
       "        vertical-align: top;\n",
       "    }\n",
       "\n",
       "    .dataframe thead th {\n",
       "        text-align: right;\n",
       "    }\n",
       "</style>\n",
       "<table border=\"1\" class=\"dataframe\">\n",
       "  <thead>\n",
       "    <tr style=\"text-align: right;\">\n",
       "      <th></th>\n",
       "      <th>index</th>\n",
       "      <th>Airline</th>\n",
       "      <th>Airline ID</th>\n",
       "      <th>Source airport</th>\n",
       "      <th>Source airport ID</th>\n",
       "      <th>Destination airport</th>\n",
       "      <th>Destination airport ID</th>\n",
       "      <th>Codeshare</th>\n",
       "      <th>Stops</th>\n",
       "      <th>Equipment</th>\n",
       "    </tr>\n",
       "  </thead>\n",
       "  <tbody>\n",
       "    <tr>\n",
       "      <th>0</th>\n",
       "      <td>0</td>\n",
       "      <td>2B</td>\n",
       "      <td>410</td>\n",
       "      <td>AER</td>\n",
       "      <td>2965</td>\n",
       "      <td>KZN</td>\n",
       "      <td>2990</td>\n",
       "      <td>NaN</td>\n",
       "      <td>0</td>\n",
       "      <td>CR2</td>\n",
       "    </tr>\n",
       "    <tr>\n",
       "      <th>1</th>\n",
       "      <td>1</td>\n",
       "      <td>2B</td>\n",
       "      <td>410</td>\n",
       "      <td>ASF</td>\n",
       "      <td>2966</td>\n",
       "      <td>KZN</td>\n",
       "      <td>2990</td>\n",
       "      <td>NaN</td>\n",
       "      <td>0</td>\n",
       "      <td>CR2</td>\n",
       "    </tr>\n",
       "    <tr>\n",
       "      <th>2</th>\n",
       "      <td>2</td>\n",
       "      <td>2B</td>\n",
       "      <td>410</td>\n",
       "      <td>ASF</td>\n",
       "      <td>2966</td>\n",
       "      <td>MRV</td>\n",
       "      <td>2962</td>\n",
       "      <td>NaN</td>\n",
       "      <td>0</td>\n",
       "      <td>CR2</td>\n",
       "    </tr>\n",
       "    <tr>\n",
       "      <th>3</th>\n",
       "      <td>3</td>\n",
       "      <td>2B</td>\n",
       "      <td>410</td>\n",
       "      <td>CEK</td>\n",
       "      <td>2968</td>\n",
       "      <td>KZN</td>\n",
       "      <td>2990</td>\n",
       "      <td>NaN</td>\n",
       "      <td>0</td>\n",
       "      <td>CR2</td>\n",
       "    </tr>\n",
       "    <tr>\n",
       "      <th>4</th>\n",
       "      <td>4</td>\n",
       "      <td>2B</td>\n",
       "      <td>410</td>\n",
       "      <td>CEK</td>\n",
       "      <td>2968</td>\n",
       "      <td>OVB</td>\n",
       "      <td>4078</td>\n",
       "      <td>NaN</td>\n",
       "      <td>0</td>\n",
       "      <td>CR2</td>\n",
       "    </tr>\n",
       "  </tbody>\n",
       "</table>\n",
       "</div>"
      ],
      "text/plain": [
       "   index Airline Airline ID Source airport Source airport ID  \\\n",
       "0      0      2B        410            AER              2965   \n",
       "1      1      2B        410            ASF              2966   \n",
       "2      2      2B        410            ASF              2966   \n",
       "3      3      2B        410            CEK              2968   \n",
       "4      4      2B        410            CEK              2968   \n",
       "\n",
       "  Destination airport Destination airport ID Codeshare  Stops Equipment  \n",
       "0                 KZN                   2990       NaN      0       CR2  \n",
       "1                 KZN                   2990       NaN      0       CR2  \n",
       "2                 MRV                   2962       NaN      0       CR2  \n",
       "3                 KZN                   2990       NaN      0       CR2  \n",
       "4                 OVB                   4078       NaN      0       CR2  "
      ]
     },
     "execution_count": 27,
     "metadata": {},
     "output_type": "execute_result"
    }
   ],
   "source": [
    "# route data\n",
    "route_data.head()"
   ]
  },
  {
   "cell_type": "code",
   "execution_count": 32,
   "metadata": {},
   "outputs": [
    {
     "data": {
      "text/plain": [
       "3425"
      ]
     },
     "execution_count": 32,
     "metadata": {},
     "output_type": "execute_result"
    }
   ],
   "source": [
    "# route \n",
    "# set(route_data['Source airport']) == set(route_data['Destination airport'])\n",
    "airport_nodes = set(route_data['Source airport']) | set(route_data['Destination airport'])\n",
    "len(airport_nodes)"
   ]
  }
 ],
 "metadata": {
  "kernelspec": {
   "display_name": "base",
   "language": "python",
   "name": "python3"
  },
  "language_info": {
   "codemirror_mode": {
    "name": "ipython",
    "version": 3
   },
   "file_extension": ".py",
   "mimetype": "text/x-python",
   "name": "python",
   "nbconvert_exporter": "python",
   "pygments_lexer": "ipython3",
   "version": "3.9.13"
  }
 },
 "nbformat": 4,
 "nbformat_minor": 2
}
