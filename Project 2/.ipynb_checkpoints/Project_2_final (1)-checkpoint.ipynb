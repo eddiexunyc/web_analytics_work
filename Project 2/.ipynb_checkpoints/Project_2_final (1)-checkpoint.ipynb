{
 "cells": [
  {
   "cell_type": "markdown",
   "metadata": {},
   "source": [
    "## DATA 620 - Project 2: Marvel Social Network Universe"
   ]
  },
  {
   "cell_type": "markdown",
   "metadata": {},
   "source": [
    "**By Eddie Xu and Mohamed Hassan-El Serafi**"
   ]
  },
  {
   "cell_type": "markdown",
   "metadata": {},
   "source": [
    "For this project:\n",
    "\n",
    "Instructions:\n",
    "\n",
    "Identify a large 2-node network dataset—you can start with a dataset in a repository.  Your data should meet the criteria that it consists of ties between and not within two (or more) distinct groups.\n",
    "Reduce the size of the network using a method such as the island method described in chapter 4 of social network analysis.\n",
    "What can you infer about each of the distinct groups?\n",
    "You may work in a small group on the project.\n",
    "\n",
    "Your code and analysis should be delivered in an IPython Notebook by end of day Monday \n",
    "\n",
    "[Kaggle data link](https://www.kaggle.com/datasets/csanhueza/the-marvel-universe-social-network)"
   ]
  },
  {
   "cell_type": "code",
   "execution_count": null,
   "metadata": {},
   "outputs": [],
   "source": [
    "# load packages\n",
    "import pandas as pd\n",
    "import numpy as np\n",
    "import networkx as nx\n",
    "import random\n",
    "import movecolumn as mc\n",
    "from scipy import stats\n",
    "from ydata_profiling import ProfileReport\n",
    "import matplotlib.pyplot as plt\n",
    "import matplotlib.colors as mcolors\n",
    "\n",
    "%matplotlib inline\n",
    "plt.rcParams[\"figure.figsize\"] = (12,10)\n",
    "\n",
    "# import packages to set up bipartite graph and communities\n",
    "from networkx.algorithms import bipartite\n",
    "from networkx.drawing.layout import bipartite_layout\n",
    "from community import community_louvain\n",
    "import matplotlib.cm as cm\n",
    "import networkx.algorithms.community as nx_comm"
   ]
  },
  {
   "cell_type": "markdown",
   "metadata": {},
   "source": [
    "### Data Selection"
   ]
  },
  {
   "cell_type": "code",
   "execution_count": null,
   "metadata": {},
   "outputs": [],
   "source": [
    "edges_url = 'https://raw.githubusercontent.com/eddiexunyc/web_analytics_work/refs/heads/main/Project%202/Resources/edges.csv'\n",
    "network_url = 'https://raw.githubusercontent.com/eddiexunyc/web_analytics_work/refs/heads/main/Project%202/Resources/hero-network.csv'\n",
    "nodes_url = 'https://raw.githubusercontent.com/eddiexunyc/web_analytics_work/refs/heads/main/Project%202/Resources/nodes.csv' \n",
    "\n",
    "# extract data\n",
    "nodes_raw = pd.read_csv(nodes_url)\n",
    "edges_raw = pd.read_csv(edges_url)\n",
    "network_raw = pd.read_csv(network_url)"
   ]
  },
  {
   "cell_type": "markdown",
   "metadata": {},
   "source": [
    "### Exploratory Data Analysis"
   ]
  },
  {
   "cell_type": "code",
   "execution_count": null,
   "metadata": {},
   "outputs": [],
   "source": [
    "# Setting seed\n",
    "random.seed(42)"
   ]
  },
  {
   "cell_type": "markdown",
   "metadata": {},
   "source": [
    "#### Nodes"
   ]
  },
  {
   "cell_type": "code",
   "execution_count": null,
   "metadata": {},
   "outputs": [],
   "source": [
    "nodes_raw.info()"
   ]
  },
  {
   "cell_type": "code",
   "execution_count": null,
   "metadata": {},
   "outputs": [],
   "source": [
    "nodes_raw.head(10)"
   ]
  },
  {
   "cell_type": "code",
   "execution_count": null,
   "metadata": {},
   "outputs": [],
   "source": [
    "nodes_profile = ProfileReport(nodes_raw, title=\"Nodes Profiling Report\")\n",
    "nodes_profile"
   ]
  },
  {
   "cell_type": "markdown",
   "metadata": {},
   "source": [
    "#### Edges"
   ]
  },
  {
   "cell_type": "code",
   "execution_count": null,
   "metadata": {},
   "outputs": [],
   "source": [
    "edges_raw.info()"
   ]
  },
  {
   "cell_type": "code",
   "execution_count": null,
   "metadata": {},
   "outputs": [],
   "source": [
    "edges_raw.head(10)"
   ]
  },
  {
   "cell_type": "code",
   "execution_count": null,
   "metadata": {},
   "outputs": [],
   "source": [
    "edges_profile = ProfileReport(edges_raw, title=\"Edges Profiling Report\")\n",
    "edges_profile"
   ]
  },
  {
   "cell_type": "markdown",
   "metadata": {},
   "source": [
    "#### Network"
   ]
  },
  {
   "cell_type": "code",
   "execution_count": null,
   "metadata": {},
   "outputs": [],
   "source": [
    "network_raw.info()"
   ]
  },
  {
   "cell_type": "code",
   "execution_count": null,
   "metadata": {},
   "outputs": [],
   "source": [
    "network_raw.head(10)"
   ]
  },
  {
   "cell_type": "code",
   "execution_count": null,
   "metadata": {},
   "outputs": [],
   "source": [
    "network_profile = ProfileReport(network_raw, title=\"Network Profiling Report\")\n",
    "network_profile"
   ]
  },
  {
   "cell_type": "markdown",
   "metadata": {},
   "source": [
    "### Data Transformation"
   ]
  },
  {
   "cell_type": "markdown",
   "metadata": {},
   "source": [
    "#### Sample"
   ]
  },
  {
   "cell_type": "code",
   "execution_count": null,
   "metadata": {},
   "outputs": [],
   "source": [
    "# For unipartite graph\n",
    "# create the hero network\n",
    "random.seed(42)\n",
    "Thor_network = network_raw[network_raw['hero1'].str.contains('THOR/DR. DONALD BLAK')].sample(25)\n",
    "Cap_network = network_raw[network_raw['hero1'].str.contains('CAPTAIN AMERICA')].sample(25)\n",
    "IronMan_network = network_raw[network_raw['hero1'].str.contains('IRON MAN/TONY STARK')].sample(25)\n",
    "BlackWidow_network = network_raw[network_raw['hero1'].str.contains('BLACK WIDOW/NATASHA')].sample(25)\n",
    "Hulk_network = network_raw[network_raw['hero1'].str.contains('HULK/DR. ROBERT BRUC')].sample(25)\n",
    "\n",
    "# combine all avenger networks into one\n",
    "network_subset = pd.concat([Thor_network, Cap_network, IronMan_network, BlackWidow_network, Hulk_network],axis = 0)\n",
    "\n",
    "# save csv\n",
    "#network_subset.to_csv('network_subset.csv', index=False)"
   ]
  },
  {
   "cell_type": "code",
   "execution_count": null,
   "metadata": {},
   "outputs": [],
   "source": [
    "## for bipartite graph\n",
    "# create the avenger list\n",
    "random.seed(42)\n",
    "avenger_list = ['THOR/DR. DONALD BLAK', 'CAPTAIN AMERICA', 'IRON MAN/TONY STARK', 'BLACK WIDOW/NATASHA', 'HULK/DR. ROBERT BRUC']\n",
    "\n",
    "# extract edges of original avengers except for hawkeyes as there is no data for it\n",
    "Thor_edge = edges_raw[edges_raw['hero'].str.contains('THOR/DR. DONALD BLAK')].sample(25)\n",
    "Cap_edge = edges_raw[edges_raw['hero'].str.contains('CAPTAIN AMERICA')].sample(25)\n",
    "IronMan_edge = edges_raw[edges_raw['hero'].str.contains('IRON MAN/TONY STARK')].sample(25)\n",
    "BlackWidow_edge = edges_raw[edges_raw['hero'].str.contains('BLACK WIDOW/NATASHA')].sample(25)\n",
    "Hulk_edge = edges_raw[edges_raw['hero'].str.contains('HULK/DR. ROBERT BRUC')].sample(25)\n",
    "\n",
    "# combine all avenger edges into one\n",
    "edge_subset = pd.concat([Thor_edge, Cap_edge, IronMan_edge, BlackWidow_edge, Hulk_edge],axis = 0)\n",
    "edge_list = pd.DataFrame(list(zip(edge_subset['hero'], edge_subset['comic'])),columns=['hero', 'comic'])\n",
    "\n",
    "# create the comic list\n",
    "comic_list = edge_subset['comic']\n",
    "\n",
    "# save csv\n",
    "# edge_list.to_csv('Resources/edge_list.csv', index=False)\n",
    "# comic_list.to_csv('Resources/comic_list.csv', index=False)"
   ]
  },
  {
   "cell_type": "markdown",
   "metadata": {},
   "source": [
    "### Network Analysis"
   ]
  },
  {
   "cell_type": "markdown",
   "metadata": {},
   "source": [
    "#### Unipartite Network"
   ]
  },
  {
   "cell_type": "code",
   "execution_count": null,
   "metadata": {},
   "outputs": [],
   "source": [
    "avenger_network_url = 'https://raw.githubusercontent.com/eddiexunyc/web_analytics_work/refs/heads/main/Project%202/Resources/network_subset.csv'\n",
    "avenger_network = pd.read_csv(avenger_network_url)\n",
    "\n",
    "G=nx.from_pandas_edgelist(avenger_network, 'hero1', 'hero2')\n",
    "pos = nx.spring_layout(G, seed=648)  # Seed layout for reproducible node positions\n",
    "nx.draw(G, pos, with_labels=True, node_size=2500, node_color=\"orange\", font_size=10, font_color=\"black\", edge_color=\"black\", alpha=0.8)\n",
    "\n",
    "plt.show()"
   ]
  },
  {
   "cell_type": "markdown",
   "metadata": {},
   "source": [
    "## Network Centrality"
   ]
  },
  {
   "cell_type": "markdown",
   "metadata": {},
   "source": [
    "### Degree Centrality"
   ]
  },
  {
   "cell_type": "code",
   "execution_count": null,
   "metadata": {
    "scrolled": true
   },
   "outputs": [],
   "source": [
    "# get the degree centrality\n",
    "random.seed(42)\n",
    "avenger_centrality = nx.degree_centrality(G)\n",
    "sorted_avenger_centrality = sorted(avenger_centrality.items(), key=lambda x: x[1], reverse=True)[:10]\n",
    "print(\"Top Avenger by Degree Centrality:\", sorted_avenger_centrality)\n",
    "sorted_avenger_centrality"
   ]
  },
  {
   "cell_type": "code",
   "execution_count": null,
   "metadata": {},
   "outputs": [],
   "source": [
    "avenger_degree_df = pd.DataFrame(sorted(avenger_centrality.items(), key=lambda x: x[1], reverse=True), \n",
    "                               columns=['Name', 'Degree Centrality'])\n",
    "\n",
    "# top 10\n",
    "avenger_degree_df.head(10)"
   ]
  },
  {
   "cell_type": "code",
   "execution_count": null,
   "metadata": {},
   "outputs": [],
   "source": [
    "# bottom 10\n",
    "avenger_degree_df.tail(10)"
   ]
  },
  {
   "cell_type": "code",
   "execution_count": null,
   "metadata": {},
   "outputs": [],
   "source": [
    "# Extract the top 10 nodes by degree centrality from the sampled graph\n",
    "top_nodes1 = [node for node, _ in sorted_avenger_centrality]\n",
    "\n",
    "# Assign colors: Highlight top nodes in red, others in blue\n",
    "node_colors = [\"red\" if node in top_nodes1 else \"lightblue\" for node in G.nodes()]\n",
    "\n",
    "# Plot the network with highlighted top nodes\n",
    "plt.figure(figsize=(12, 8))\n",
    "pos = nx.spring_layout(G, seed=42)  # Layout for better visualization\n",
    "\n",
    "nx.draw(G, pos, with_labels=True, node_color=node_colors, edge_color=\"gray\", \n",
    "        node_size=300, font_size=6, font_color=\"black\")\n",
    "\n",
    "plt.title(\"Top 10 Heroes by Degree Centrality\")\n",
    "plt.show()"
   ]
  },
  {
   "cell_type": "markdown",
   "metadata": {},
   "source": [
    "### Betweenness Centrality"
   ]
  },
  {
   "cell_type": "code",
   "execution_count": null,
   "metadata": {},
   "outputs": [],
   "source": [
    "# get the betweeness centrality\n",
    "random.seed(42)\n",
    "avenger_betweeness_centrality = nx.betweenness_centrality(G)\n",
    "sorted_betweeness_centrality = sorted(avenger_betweeness_centrality.items(), key=lambda x: x[1], reverse=True)[:10]\n",
    "print(\"Top Avenger by Betweeness Centrality:\", sorted_betweeness_centrality)\n",
    "sorted_betweeness_centrality"
   ]
  },
  {
   "cell_type": "code",
   "execution_count": null,
   "metadata": {},
   "outputs": [],
   "source": [
    "avenger_betweenness_df = pd.DataFrame(sorted(avenger_betweeness_centrality.items(), key=lambda x: x[1], reverse=True), \n",
    "                               columns=['Name', 'Betweenness Centrality'])\n",
    "\n",
    "# top 10\n",
    "avenger_betweenness_df.head(10)"
   ]
  },
  {
   "cell_type": "code",
   "execution_count": null,
   "metadata": {},
   "outputs": [],
   "source": [
    "# Bottom 10\n",
    "avenger_betweenness_df.tail(10)"
   ]
  },
  {
   "cell_type": "code",
   "execution_count": null,
   "metadata": {},
   "outputs": [],
   "source": [
    "# Extract the top 10 nodes by degree centrality from the sampled graph\n",
    "top_nodes2 = [node for node, _ in sorted_betweeness_centrality]\n",
    "\n",
    "# Assign colors: Highlight top nodes in red, others in blue\n",
    "node_colors = [\"red\" if node in top_nodes2 else \"lightblue\" for node in G.nodes()]\n",
    "\n",
    "# Plot the network with highlighted top nodes\n",
    "plt.figure(figsize=(12, 8))\n",
    "pos = nx.spring_layout(G, seed=42)  # Layout for better visualization\n",
    "\n",
    "nx.draw(G, pos, with_labels=True, node_color=node_colors, edge_color=\"gray\", \n",
    "        node_size=300, font_size=6, font_color=\"black\")\n",
    "\n",
    "plt.title(\"Top 10 Heroes by Betweenness Centrality\")\n",
    "plt.show()"
   ]
  },
  {
   "cell_type": "markdown",
   "metadata": {},
   "source": [
    "### Closeness Centrality"
   ]
  },
  {
   "cell_type": "code",
   "execution_count": null,
   "metadata": {},
   "outputs": [],
   "source": [
    "# get the closenss centrality\n",
    "random.seed(42)\n",
    "avenger_closeness_centrality = nx.closeness_centrality(G)\n",
    "sorted_closeness_centrality = sorted(avenger_closeness_centrality.items(), key=lambda x: x[1], reverse=True)[:10]\n",
    "print(\"Top Avenger by Closeness Centrality:\", sorted_closeness_centrality)\n",
    "sorted_closeness_centrality"
   ]
  },
  {
   "cell_type": "code",
   "execution_count": null,
   "metadata": {},
   "outputs": [],
   "source": [
    "avenger_closeness_df = pd.DataFrame(sorted(avenger_closeness_centrality.items(), key=lambda x: x[1], reverse=True), \n",
    "                               columns=['Name', 'Closeness Centrality'])\n",
    "\n",
    "# top 10\n",
    "avenger_closeness_df.head(10)"
   ]
  },
  {
   "cell_type": "code",
   "execution_count": null,
   "metadata": {},
   "outputs": [],
   "source": [
    "# Bottom 10\n",
    "avenger_closeness_df.tail(10)"
   ]
  },
  {
   "cell_type": "code",
   "execution_count": null,
   "metadata": {},
   "outputs": [],
   "source": [
    "# Extract the top 10 nodes by degree centrality from the sampled graph\n",
    "top_nodes3 = [node for node, _ in sorted_closeness_centrality]\n",
    "\n",
    "# Assign colors: Highlight top nodes in red, others in blue\n",
    "node_colors = [\"red\" if node in top_nodes3 else \"lightblue\" for node in G.nodes()]\n",
    "\n",
    "# Plot the network with highlighted top nodes\n",
    "plt.figure(figsize=(12, 8))\n",
    "pos = nx.spring_layout(G, seed=42)  # Layout for better visualization\n",
    "\n",
    "nx.draw(G, pos, with_labels=True, node_color=node_colors, edge_color=\"gray\", \n",
    "        node_size=300, font_size=6, font_color=\"black\")\n",
    "\n",
    "plt.title(\"Top 10 Heroes by Closeness Centrality\")\n",
    "plt.show()"
   ]
  },
  {
   "cell_type": "markdown",
   "metadata": {},
   "source": [
    "### Eigenvector Centrality"
   ]
  },
  {
   "cell_type": "code",
   "execution_count": null,
   "metadata": {},
   "outputs": [],
   "source": [
    "random.seed(42)\n",
    "avenger_eigenvector_centrality = nx.eigenvector_centrality(G)\n",
    "sorted_eigenvector_centrality = sorted(avenger_eigenvector_centrality.items(), key=lambda x: x[1], reverse=True)[:10]\n",
    "print(\"Top Avenger by Eigenvector Centrality:\", sorted_eigenvector_centrality)\n",
    "sorted_eigenvector_centrality"
   ]
  },
  {
   "cell_type": "code",
   "execution_count": null,
   "metadata": {},
   "outputs": [],
   "source": [
    "avenger_eigenvector_df = pd.DataFrame(sorted(avenger_eigenvector_centrality.items(), key=lambda x: x[1], reverse=True), \n",
    "                               columns=['Name', 'Eigenvector Centrality'])\n",
    "\n",
    "# top 10\n",
    "avenger_eigenvector_df.head(10)"
   ]
  },
  {
   "cell_type": "code",
   "execution_count": null,
   "metadata": {},
   "outputs": [],
   "source": [
    "# bottom 10\n",
    "avenger_eigenvector_df.tail(10)"
   ]
  },
  {
   "cell_type": "code",
   "execution_count": null,
   "metadata": {},
   "outputs": [],
   "source": [
    "# Extract the top 10 nodes by degree centrality from the sampled graph\n",
    "top_nodes4 = [node for node, _ in sorted_eigenvector_centrality]\n",
    "\n",
    "# Assign colors: Highlight top nodes in red, others in blue\n",
    "node_colors = [\"red\" if node in top_nodes4 else \"lightblue\" for node in G.nodes()]\n",
    "\n",
    "# Plot the network with highlighted top nodes\n",
    "plt.figure(figsize=(12, 8))\n",
    "pos = nx.spring_layout(G, seed=42)  # Layout for better visualization\n",
    "\n",
    "nx.draw(G, pos, with_labels=True, node_color=node_colors, edge_color=\"gray\", \n",
    "        node_size=300, font_size=6, font_color=\"black\")\n",
    "\n",
    "plt.title(\"Top 10 Heroes by Eigenvector Centrality\")\n",
    "plt.show()"
   ]
  },
  {
   "cell_type": "markdown",
   "metadata": {},
   "source": [
    "#### Bipartite Network"
   ]
  },
  {
   "cell_type": "code",
   "execution_count": null,
   "metadata": {},
   "outputs": [],
   "source": [
    "# extract data\n",
    "avenger_edge_url = 'https://raw.githubusercontent.com/eddiexunyc/web_analytics_work/refs/heads/main/Project%202/Resources/edge_list.csv'\n",
    "avenger_comic_url = 'https://raw.githubusercontent.com/eddiexunyc/web_analytics_work/refs/heads/main/Project%202/Resources/comic_list.csv'\n",
    "\n",
    "avenger_edge = pd.read_csv(avenger_edge_url)\n",
    "avenger_comic = pd.read_csv(avenger_comic_url)\n",
    "\n",
    "# create the bipartite graph\n",
    "avenger_bipart = nx.Graph()\n",
    "\n",
    "# add nodes and edges\n",
    "avenger_bipart.add_nodes_from(avenger_comic, bipartite=0)\n",
    "avenger_bipart.add_nodes_from(avenger_list, bipartite=1)\n",
    "avenger_bipart.add_edges_from(avenger_edge)\n",
    "\n",
    "# check if the graph is bipartite\n",
    "print(bipartite.is_bipartite(avenger_bipart)) \n",
    "\n",
    "bipartite_none = list()\n",
    "# Examine the bipartite attribute of each node\n",
    "for node, data in avenger_bipart.nodes(data=True):\n",
    "    if data.get('bipartite') == None:\n",
    "        print(f\"Node {node}: bipartite = {data.get('bipartite')}\")\n",
    "        bipartite_none.append(node)"
   ]
  },
  {
   "cell_type": "code",
   "execution_count": null,
   "metadata": {},
   "outputs": [],
   "source": [
    "# remove nodes that have NONE bipartite\n",
    "avenger_bipart.remove_nodes_from(bipartite_none)"
   ]
  },
  {
   "cell_type": "code",
   "execution_count": null,
   "metadata": {},
   "outputs": [],
   "source": [
    "# separate nodes\n",
    "top_nodes_subset = {n for n, d in avenger_bipart.nodes(data=True) if d['bipartite'] == 0}\n",
    "bottom_nodes_subset = set(avenger_bipart) - top_nodes_subset\n",
    "avenger_bipart.nodes(data=True)\n",
    "\n",
    "# set node colors\n",
    "color_dict = {0:'cornflowerblue', 1:'tomato'}\n",
    "color_list = [color_dict[i[1]] for i in avenger_bipart.nodes.data('bipartite')]\n",
    "\n",
    "# draw a bipartite graph\n",
    "pos = dict()\n",
    "color = []\n",
    "plt.figure(figsize=(12, 8))\n",
    "\n",
    "pos.update((n, (1, i)) for i, n in enumerate(top_nodes_subset)) \n",
    "pos.update((n, (2, i)) for i, n in enumerate(bottom_nodes_subset)) \n",
    "nx.draw(avenger_bipart, pos=pos, with_labels=True, node_color=color_list, font_size=6)\n",
    "plt.show()"
   ]
  },
  {
   "cell_type": "code",
   "execution_count": null,
   "metadata": {},
   "outputs": [],
   "source": [
    "# create the bipartite graph\n",
    "avenger_bipart = nx.Graph()\n",
    "\n",
    "# add nodes and edges\n",
    "avenger_bipart.add_nodes_from(comic_list, bipartite=0)\n",
    "avenger_bipart.add_nodes_from(avenger_list, bipartite=1)\n",
    "avenger_bipart.add_edges_from(edge_list)\n"
   ]
  },
  {
   "cell_type": "code",
   "execution_count": null,
   "metadata": {},
   "outputs": [],
   "source": [
    "avenger_graph = bipartite.projected_graph(avenger_bipart, avenger_list, multigraph=False)\n",
    "\n",
    "pos=nx.spring_layout(avenger_graph)\n",
    "nx.draw(avenger_graph, pos=pos, node_size=5, node_color='tomato', alpha=0.4)\n",
    "nx.draw_networkx_edges(avenger_graph, pos=pos, alpha=0.1)\n",
    "\n",
    "plt.figure(figsize=(12, 8))\n",
    "plt.show()"
   ]
  },
  {
   "cell_type": "code",
   "execution_count": null,
   "metadata": {},
   "outputs": [],
   "source": [
    "# Ranking of nodes regarding the number of degrees\n",
    "degree_sequence = sorted([d for n, d in avenger_graph.degree()], reverse=True)\n",
    "\n",
    "# Extract connected nodes to visualize\n",
    "Gcc = avenger_graph.subgraph(sorted(nx.connected_components(avenger_graph), key=len, reverse=True)[0])\n",
    "\n",
    "# Visualization\n",
    "fig = plt.figure(\"Degree of the avenger graph\")\n",
    "axgrid = fig.add_gridspec(5, 4)\n",
    "ax0 = fig.add_subplot(axgrid[0:3, :])\n",
    "pos = nx.spring_layout(Gcc, seed=42)\n",
    "nx.draw_networkx_nodes(Gcc, pos, ax=ax0, node_size=5, alpha=0.4, node_color='tomato')\n",
    "nx.draw_networkx_edges(Gcc, pos, ax=ax0, alpha=0.1)\n",
    "ax0.set_title(\"Connected components of Avengers\")\n",
    "ax0.set_axis_off()\n",
    "\n",
    "fig.tight_layout()\n",
    "plt.show()"
   ]
  },
  {
   "cell_type": "code",
   "execution_count": null,
   "metadata": {},
   "outputs": [],
   "source": [
    "# Community division\n",
    "partition_avenger = community_louvain.best_partition(Gcc)\n",
    "\n",
    "# Color the nodes according to community\n",
    "cmap = cm.get_cmap('gist_ncar', max(partition_avenger.values()) + 1)\n",
    "\n",
    "pos = nx.spring_layout(Gcc, seed=42)\n",
    "nx.draw_networkx_nodes(Gcc, pos, partition_avenger.keys(), node_size=5, alpha=0.4,\n",
    "                       cmap=cmap, node_color=list(partition_avenger.values()))\n",
    "nx.draw_networkx_edges(Gcc, pos, alpha=0.1)\n",
    "plt.title(\"Avenger Community\")\n",
    "plt.show()"
   ]
  },
  {
   "cell_type": "code",
   "execution_count": null,
   "metadata": {},
   "outputs": [],
   "source": [
    "# find the modularity\n",
    "avenger_modularity = nx_comm.modularity(avenger_graph, nx_comm.label_propagation_communities(avenger_graph))\n",
    "\n",
    "\n",
    "print(f'Modularity of Hero network: {avenger_modularity}')"
   ]
  },
  {
   "cell_type": "markdown",
   "metadata": {},
   "source": [
    "## Key Insights & Observations"
   ]
  },
  {
   "cell_type": "markdown",
   "metadata": {},
   "source": [
    "When analyzing the top 10 heroes among each centrality measure, a few noteworthy observations stick out. Captain America ranks first in degree, betweenness, closeness and eigenvector centralities. His rankings indicates that he plays a prominent role in the amount of connections he has, how well-connected he is to other heroes that are also well-connected, and is a bridge between and close to other characters. He's essentially at the center of the Marvel universe. Additionally, Iron Man is ranked no lower than 3rd in each of the centrality measures, which demonstrates his strong presence in the Marvel universe. This isn't totally surprising, since Captain America and Iron Man are popular comic book heroes and are often working together. While The Hulk ranked second in degree and betweenness centralities, he ranked 7th in closeness and eigenvector centralities, which is understandable considering that while he is strong he also has uncontrollable rage, which might affect how other heroes interact with him. Black Widow ranked in the top 5 in each centrality measure. In earlier comic book stories, Black Widow was considered an enemy of Iron Man. In later versions, she became a superhero and teamed with Iron Man. She is the only female superhero who is in the top 5 for each centrality measure.\n",
    "\n",
    "Heroes that have the lowest centrality measures are not well known. North Star ranked last in each centrality measure, which indicates that he wasn't popular among marvel comicbook heroes. An interesting fact about North Star is that he was the first openly gay Marvel comic hero created. Along with North Star, the characters Shawdowcat, Elysius, Wrecker III, and Orka were in the bottom 5 for each centrality measure. Orka and Wrecker III are known as villains in Marvel comics, so their lack of connections could be explained by how they are preceived. Shadowcat and Elysius are lesser known characters that have small roles in Marvel comics.\n",
    "\n",
    "For the bipartite analysis, it shows that original avengers appear to multiple comics multiple times. After put them in communities, there are few clusters where avengers are densely connected in nodes which makes senses they act as one superhero team. For modularity, a measure to determine how good the cluster is, the avenger community have a positive and relatively high score of 0.720. "
   ]
  },
  {
   "cell_type": "code",
   "execution_count": null,
   "metadata": {},
   "outputs": [],
   "source": [
    "avenger_network"
   ]
  },
  {
   "cell_type": "code",
   "execution_count": null,
   "metadata": {},
   "outputs": [],
   "source": []
  }
 ],
 "metadata": {
  "kernelspec": {
   "display_name": "Python 3 (ipykernel)",
   "language": "python",
   "name": "python3"
  },
  "language_info": {
   "codemirror_mode": {
    "name": "ipython",
    "version": 3
   },
   "file_extension": ".py",
   "mimetype": "text/x-python",
   "name": "python",
   "nbconvert_exporter": "python",
   "pygments_lexer": "ipython3",
   "version": "3.11.7"
  }
 },
 "nbformat": 4,
 "nbformat_minor": 2
}
